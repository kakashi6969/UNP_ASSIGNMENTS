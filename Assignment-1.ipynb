{
 "cells": [
  {
   "cell_type": "markdown",
   "metadata": {
    "id": "hmYrhduIsDBK"
   },
   "source": [
    "Let's solve a few problems to sharpen your coding skill.<br>\n",
    "You can code in the cell following the problem statement."
   ]
  },
  {
   "cell_type": "markdown",
   "metadata": {
    "id": "VH4pr19psa3T"
   },
   "source": [
    "**Problem-1**<br>\n",
    "Your friend measures his body temperature using a thermometer and finds the<br> reading to be 100 degree Farenheit. Can you please let us know the reading in Celsius scale?"
   ]
  },
  {
   "cell_type": "code",
   "execution_count": 2,
   "metadata": {
    "id": "r2yJkjp6tmXW"
   },
   "outputs": [
    {
     "name": "stdout",
     "output_type": "stream",
     "text": [
      "100F in celcius is: 37.77777777777778\n"
     ]
    }
   ],
   "source": [
    "tempf = 100\n",
    "tempc = (tempf - 32)*(5/9)\n",
    "print(\"100F in celcius is:\",tempc)"
   ]
  },
  {
   "cell_type": "markdown",
   "metadata": {
    "id": "1BuMZENotxDK"
   },
   "source": [
    "**Problem-2**<br>\n",
    "The cost of producing x unit of item in a factory is y. Cost y is related<br> to unit x by the following formula <br>\n",
    "y= a*x^2+b*x+c where<br>\n",
    "a, b, c are constants having value 2, 5, 1020 respectively.<br>\n",
    "In this text (not in python language) ^ represents raised to the power.<br>\n",
    "If management wants to produce 10,000 quantities of product, please let us know<br> the average manufacturing cost for a single item.\n"
   ]
  },
  {
   "cell_type": "code",
   "execution_count": 7,
   "metadata": {
    "id": "ujMqe7d5xcv7"
   },
   "outputs": [
    {
     "name": "stdout",
     "output_type": "stream",
     "text": [
      "The cost for manufacturing 10,000 quantities of the product is 200051020\n",
      "The average cost for a single item is 20005.102\n"
     ]
    }
   ],
   "source": [
    "a = 2\n",
    "b = 5\n",
    "c = 1020\n",
    "x = 10000\n",
    "y = (a)*(x**2)+(b)*(x)+c\n",
    "print(\"The cost for manufacturing 10,000 quantities of the product is\",y)\n",
    "print(\"The average cost for a single item is\",y/10000)"
   ]
  }
 ],
 "metadata": {
  "colab": {
   "authorship_tag": "ABX9TyNLMRxd7bl7XPlAw35udHiw",
   "name": "Assignment-1.ipynb",
   "provenance": []
  },
  "kernelspec": {
   "display_name": "Python 3",
   "language": "python",
   "name": "python3"
  },
  "language_info": {
   "codemirror_mode": {
    "name": "ipython",
    "version": 3
   },
   "file_extension": ".py",
   "mimetype": "text/x-python",
   "name": "python",
   "nbconvert_exporter": "python",
   "pygments_lexer": "ipython3",
   "version": "3.8.5"
  }
 },
 "nbformat": 4,
 "nbformat_minor": 1
}
