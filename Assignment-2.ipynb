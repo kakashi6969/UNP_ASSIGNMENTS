{
 "cells": [
  {
   "cell_type": "markdown",
   "metadata": {
    "id": "RWGPvgMGhZo5"
   },
   "source": [
    "This is your assignment on conditional statement and looping"
   ]
  },
  {
   "cell_type": "markdown",
   "metadata": {
    "id": "IKuXztS-h62c"
   },
   "source": [
    "**Problem-1**<br>\n",
    "Write a small program to check a number is divisible by 7 or not"
   ]
  },
  {
   "cell_type": "code",
   "execution_count": 3,
   "metadata": {
    "id": "tmLkoOqthcy-"
   },
   "outputs": [
    {
     "name": "stdout",
     "output_type": "stream",
     "text": [
      "Enter a number:14\n",
      "14 is divisible by 7\n"
     ]
    }
   ],
   "source": [
    "a = input(\"Enter a number:\")\n",
    "a = int(a)\n",
    "if(a%7==0):\n",
    "    print(a,\"is divisible by 7\")\n",
    "else:\n",
    "    print(a,\"is not divisible by 7\")"
   ]
  },
  {
   "cell_type": "markdown",
   "metadata": {
    "id": "aKEBothyhZy8"
   },
   "source": [
    "**Problem-2**<br>\n",
    "If a number is divisible by either 5 or 7, then we will call it a 'five-or-seven' number.<br> \n",
    "Write down a program to check if a number is 'five-or-seven' number or not."
   ]
  },
  {
   "cell_type": "code",
   "execution_count": 6,
   "metadata": {
    "id": "Vv-j3UR9hd1-"
   },
   "outputs": [
    {
     "name": "stdout",
     "output_type": "stream",
     "text": [
      "Enter a number:49\n",
      "49 is a 'fiver-or-seven' number\n"
     ]
    }
   ],
   "source": [
    "b = input(\"Enter a number:\")\n",
    "b = int(b)\n",
    "if(b%5==0) or (b%7==0):\n",
    "    print(b,\"is a 'fiver-or-seven' number\")\n",
    "else:\n",
    "    print(b,\"is a 'fiver-or-seven' number\")\n"
   ]
  },
  {
   "cell_type": "markdown",
   "metadata": {
    "id": "Y9KxqFjxl2zt"
   },
   "source": [
    "**Problem-3**<br>\n",
    "Write a program to calculate the electricity bill (accept number of unit from user) according to the following criteria:<br>  \n",
    "Upto first 100 units Rs. 3 per unit.<br>\n",
    "Next 100 units Rs. 5 per unit.<br>\n",
    "Next 300 units Rs. 7 per unit.<br>\n",
    "Above that, for each unit exceeding 500, Rs. 10 per unit flat.<br>"
   ]
  },
  {
   "cell_type": "code",
   "execution_count": 10,
   "metadata": {
    "id": "f_xfH-gSnRvI"
   },
   "outputs": [
    {
     "name": "stdout",
     "output_type": "stream",
     "text": [
      "Enter the number of units:500\n",
      "the electricity bill is 2900\n"
     ]
    }
   ],
   "source": [
    "n_unit = input(\"Enter the number of units:\")\n",
    "n_unit = int(n_unit)\n",
    "if(n_unit<0):\n",
    "    print(\"Enter correct value\")\n",
    "else:\n",
    "    if(n_unit<=100):\n",
    "        print(\"the electricity bill is\",n_unit*3)\n",
    "    elif(n_unit>100 and n_unit<=200):\n",
    "        print(\"the electricity bill is\",300+((n_unit-100)*5))\n",
    "    elif(n_unit>200 and n_unit<=500):\n",
    "        print(\"the electricity bill is\",300+500+((n_unit-200)*7))\n",
    "    elif(n_unit>500):\n",
    "        print(\"the electricity bill is\",300+500+2100+((n_unit-500)*10))\n",
    "    \n"
   ]
  },
  {
   "cell_type": "markdown",
   "metadata": {
    "id": "rLNw2lAwhZ8q"
   },
   "source": [
    "**Problem-4**<br>\n",
    "Find out sum of square of all the numbers upto 10, starting from 1"
   ]
  },
  {
   "cell_type": "code",
   "execution_count": 7,
   "metadata": {
    "id": "8kgqZ_x-heuw"
   },
   "outputs": [
    {
     "name": "stdout",
     "output_type": "stream",
     "text": [
      "385\n"
     ]
    }
   ],
   "source": [
    "sum10 = 0\n",
    "for i in range(11):\n",
    "    sum10 = sum10 + i**2\n",
    "print(sum10)\n"
   ]
  },
  {
   "cell_type": "markdown",
   "metadata": {
    "id": "Y-MCE0x9haiN"
   },
   "source": [
    "**Problem-5**<br>\n",
    "Find out sum of square of all the even numbers upto 10, starting from 1"
   ]
  },
  {
   "cell_type": "code",
   "execution_count": 11,
   "metadata": {
    "id": "Ki_-j4Dphfkd"
   },
   "outputs": [
    {
     "name": "stdout",
     "output_type": "stream",
     "text": [
      "220\n"
     ]
    }
   ],
   "source": [
    "s_even = 0\n",
    "for i in range(0,11,2):\n",
    "    s_even = s_even + i**2\n",
    "print(s_even)\n"
   ]
  },
  {
   "cell_type": "markdown",
   "metadata": {
    "id": "Sxp-egxiha1L"
   },
   "source": [
    "**Problem-6**<br>\n",
    "Check a number is prime or not"
   ]
  },
  {
   "cell_type": "code",
   "execution_count": 8,
   "metadata": {
    "id": "IoGNy2aMhgop"
   },
   "outputs": [
    {
     "name": "stdout",
     "output_type": "stream",
     "text": [
      "Enter a number to check whether a number is prime or not:11\n",
      "11 is a prime number\n"
     ]
    }
   ],
   "source": [
    "num = input(\"Enter a number to check whether a number is prime or not:\")\n",
    "num = int(num)\n",
    "t = 0\n",
    "for i in range(1,num+1):\n",
    "    if(num%i==0):\n",
    "        t = t + 1\n",
    "if(t==2):\n",
    "    print(num,\"is a prime number\")\n",
    "else:\n",
    "    print(num,\"is not a prime number\")"
   ]
  },
  {
   "cell_type": "markdown",
   "metadata": {
    "id": "ntLKcA1hha44"
   },
   "source": [
    "**Problem-7**<br>\n",
    "Print multiplication table upto 10 starting from 1"
   ]
  },
  {
   "cell_type": "code",
   "execution_count": 7,
   "metadata": {
    "id": "U5LmrwFmhiE3"
   },
   "outputs": [
    {
     "name": "stdout",
     "output_type": "stream",
     "text": [
      "1 x 1 = 1\n",
      "1 x 2 = 2\n",
      "1 x 3 = 3\n",
      "1 x 4 = 4\n",
      "1 x 5 = 5\n",
      "1 x 6 = 6\n",
      "1 x 7 = 7\n",
      "1 x 8 = 8\n",
      "1 x 9 = 9\n",
      "1 x 10 = 10\n",
      "\n",
      "\n",
      "2 x 1 = 2\n",
      "2 x 2 = 4\n",
      "2 x 3 = 6\n",
      "2 x 4 = 8\n",
      "2 x 5 = 10\n",
      "2 x 6 = 12\n",
      "2 x 7 = 14\n",
      "2 x 8 = 16\n",
      "2 x 9 = 18\n",
      "2 x 10 = 20\n",
      "\n",
      "\n",
      "3 x 1 = 3\n",
      "3 x 2 = 6\n",
      "3 x 3 = 9\n",
      "3 x 4 = 12\n",
      "3 x 5 = 15\n",
      "3 x 6 = 18\n",
      "3 x 7 = 21\n",
      "3 x 8 = 24\n",
      "3 x 9 = 27\n",
      "3 x 10 = 30\n",
      "\n",
      "\n",
      "4 x 1 = 4\n",
      "4 x 2 = 8\n",
      "4 x 3 = 12\n",
      "4 x 4 = 16\n",
      "4 x 5 = 20\n",
      "4 x 6 = 24\n",
      "4 x 7 = 28\n",
      "4 x 8 = 32\n",
      "4 x 9 = 36\n",
      "4 x 10 = 40\n",
      "\n",
      "\n",
      "5 x 1 = 5\n",
      "5 x 2 = 10\n",
      "5 x 3 = 15\n",
      "5 x 4 = 20\n",
      "5 x 5 = 25\n",
      "5 x 6 = 30\n",
      "5 x 7 = 35\n",
      "5 x 8 = 40\n",
      "5 x 9 = 45\n",
      "5 x 10 = 50\n",
      "\n",
      "\n",
      "6 x 1 = 6\n",
      "6 x 2 = 12\n",
      "6 x 3 = 18\n",
      "6 x 4 = 24\n",
      "6 x 5 = 30\n",
      "6 x 6 = 36\n",
      "6 x 7 = 42\n",
      "6 x 8 = 48\n",
      "6 x 9 = 54\n",
      "6 x 10 = 60\n",
      "\n",
      "\n",
      "7 x 1 = 7\n",
      "7 x 2 = 14\n",
      "7 x 3 = 21\n",
      "7 x 4 = 28\n",
      "7 x 5 = 35\n",
      "7 x 6 = 42\n",
      "7 x 7 = 49\n",
      "7 x 8 = 56\n",
      "7 x 9 = 63\n",
      "7 x 10 = 70\n",
      "\n",
      "\n",
      "8 x 1 = 8\n",
      "8 x 2 = 16\n",
      "8 x 3 = 24\n",
      "8 x 4 = 32\n",
      "8 x 5 = 40\n",
      "8 x 6 = 48\n",
      "8 x 7 = 56\n",
      "8 x 8 = 64\n",
      "8 x 9 = 72\n",
      "8 x 10 = 80\n",
      "\n",
      "\n",
      "9 x 1 = 9\n",
      "9 x 2 = 18\n",
      "9 x 3 = 27\n",
      "9 x 4 = 36\n",
      "9 x 5 = 45\n",
      "9 x 6 = 54\n",
      "9 x 7 = 63\n",
      "9 x 8 = 72\n",
      "9 x 9 = 81\n",
      "9 x 10 = 90\n",
      "\n",
      "\n",
      "10 x 1 = 10\n",
      "10 x 2 = 20\n",
      "10 x 3 = 30\n",
      "10 x 4 = 40\n",
      "10 x 5 = 50\n",
      "10 x 6 = 60\n",
      "10 x 7 = 70\n",
      "10 x 8 = 80\n",
      "10 x 9 = 90\n",
      "10 x 10 = 100\n",
      "\n",
      "\n"
     ]
    }
   ],
   "source": [
    "for number in range(1,11):\n",
    "    for i in range(1, 11):\n",
    "        print(number, 'x', i, '=', number*i)\n",
    "    print('\\n')\n",
    "    "
   ]
  },
  {
   "cell_type": "markdown",
   "metadata": {
    "id": "09Fwyn_ZhbDY"
   },
   "source": [
    "**Problem-8**<br>\n",
    "Print the series of first n fibonacci numbers"
   ]
  },
  {
   "cell_type": "code",
   "execution_count": 12,
   "metadata": {
    "id": "mo2otdwfhi3J"
   },
   "outputs": [
    {
     "name": "stdout",
     "output_type": "stream",
     "text": [
      "Enter how long you want the series to be:8\n",
      "The fibonacci sequence of the numbers is:\n",
      "0\n",
      "1\n",
      "1\n",
      "2\n",
      "3\n",
      "5\n",
      "8\n",
      "13\n"
     ]
    }
   ],
   "source": [
    "n = input(\"Enter how long you want the series to be:\")\n",
    "n = int(n)  \n",
    "n1 = 0  \n",
    "n2 = 1  \n",
    "count = 0    \n",
    "print (\"The fibonacci sequence of the numbers is:\")  \n",
    "while count < n:  \n",
    "    print(n1)  \n",
    "    nth = n1 + n2  \n",
    "    n1 = n2  \n",
    "    n2 = nth  \n",
    "    count = count + 1  \n"
   ]
  }
 ],
 "metadata": {
  "colab": {
   "authorship_tag": "ABX9TyPTyW6Ecqmi2PIeDEY0dN54",
   "name": "Assignment-2.ipynb",
   "provenance": []
  },
  "kernelspec": {
   "display_name": "Python 3",
   "language": "python",
   "name": "python3"
  }
 },
 "nbformat": 4,
 "nbformat_minor": 1
}
